!git clone https://github.com/jantic/DeOldify.git DeOldify 
cd DeOldify
!pip install -r requirements-colab.txt

import fastai
from deoldify.visualize import *
import warnings
warnings.filterwarnings("ignore", category=UserWarning, message=".*?Your .*? set is empty.*?")
!mkdir 'models'
!wget https://data.deepai.org/deoldify/ColorizeArtistic_gen.pth -O ./models/ColorizeArtistic_gen.pth

colorizer = get_image_colorizer(artistic=True)

source_url = 'd' #@param {type:"string"}
render_factor = 32  #@param {type: "slider", min: 7, max: 40}
watermarked = True #@param {type:"boolean"}

if source_url is not None and source_url !='':
    image_path = colorizer.plot_transformed_image(path='/content/DeOldify/278767087_3085322308401570_8575016033454594444_n.jpg', render_factor=render_factor, compare=True)
    show_image_in_notebook(image_path)
else:
    print('Provide an image url and try again.')
